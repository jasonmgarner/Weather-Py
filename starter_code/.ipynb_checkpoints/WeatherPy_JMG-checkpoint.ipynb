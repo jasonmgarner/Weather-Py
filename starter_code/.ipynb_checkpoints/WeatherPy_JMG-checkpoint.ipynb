{
 "cells": [
  {
   "cell_type": "code",
   "execution_count": 6,
   "metadata": {
    "scrolled": true
   },
   "outputs": [
    {
     "ename": "ModuleNotFoundError",
     "evalue": "No module named 'config'",
     "output_type": "error",
     "traceback": [
      "\u001b[0;31m---------------------------------------------------------------------------\u001b[0m",
      "\u001b[0;31mModuleNotFoundError\u001b[0m                       Traceback (most recent call last)",
      "\u001b[0;32m<ipython-input-6-7b9e06e87366>\u001b[0m in \u001b[0;36m<module>\u001b[0;34m()\u001b[0m\n\u001b[1;32m      5\u001b[0m \u001b[0;32mimport\u001b[0m \u001b[0mrequests\u001b[0m\u001b[0;34m\u001b[0m\u001b[0m\n\u001b[1;32m      6\u001b[0m \u001b[0;32mimport\u001b[0m \u001b[0mtime\u001b[0m\u001b[0;34m\u001b[0m\u001b[0m\n\u001b[0;32m----> 7\u001b[0;31m \u001b[0;32mfrom\u001b[0m \u001b[0mconfig\u001b[0m \u001b[0;32mimport\u001b[0m \u001b[0mapi_key\u001b[0m\u001b[0;34m\u001b[0m\u001b[0m\n\u001b[0m\u001b[1;32m      8\u001b[0m \u001b[0;34m\u001b[0m\u001b[0m\n\u001b[1;32m      9\u001b[0m \u001b[0;31m# Import API key\u001b[0m\u001b[0;34m\u001b[0m\u001b[0;34m\u001b[0m\u001b[0m\n",
      "\u001b[0;31mModuleNotFoundError\u001b[0m: No module named 'config'"
     ]
    }
   ],
   "source": [
    "# Dependencies and Setup\n",
    "import matplotlib.pyplot as plt\n",
    "import pandas as pd\n",
    "import numpy as np\n",
    "import requests\n",
    "import time\n",
    "from config import api_key\n",
    "\n",
    "# Import API key\n",
    "import api_keys\n",
    "\n",
    "# Incorporated citipy to determine city based on latitude and longitude\n",
    "from citipy import citipy\n",
    "\n",
    "citipy?\n",
    "# Output File (CSV)\n",
    "output_data_file = \"output_data/cities.csv\"\n",
    "\n",
    "# Range of latitudes and longitudes\n",
    "lat_range = (-90, 90)\n",
    "lng_range = (-180, 180)\n",
    "\n",
    "print(api_key)"
   ]
  },
  {
   "cell_type": "markdown",
   "metadata": {},
   "source": [
    "## Generate Cities List"
   ]
  },
  {
   "cell_type": "code",
   "execution_count": null,
   "metadata": {},
   "outputs": [],
   "source": [
    "# # List for holding lat_lngs and cities\n",
    "# lat_lngs = []\n",
    "# cities = []\n",
    "\n",
    "# # Create a set of random lat and lng combinations\n",
    "# lats = np.random.uniform(low=-90.000, high=90.000, size=1500)\n",
    "# lngs = np.random.uniform(low=-180.000, high=180.000, size=1500)\n",
    "# lat_lngs = zip(lats, lngs)\n",
    "\n",
    "# # Identify nearest city for each lat, lng combination\n",
    "# for lat_lng in lat_lngs:\n",
    "#     city = citipy.nearest_city(lat_lng[0], lat_lng[1]).city_name\n",
    "    \n",
    "#     # If the city is unique, then add it to a our cities list\n",
    "#     if city not in cities:\n",
    "#         cities.append(city)\n",
    "\n",
    "# # Print the city count to confirm sufficient count\n",
    "# len(cities)\n"
   ]
  },
  {
   "cell_type": "raw",
   "metadata": {},
   "source": []
  },
  {
   "cell_type": "markdown",
   "metadata": {},
   "source": [
    "## Perform API Calls"
   ]
  },
  {
   "cell_type": "code",
   "execution_count": 75,
   "metadata": {},
   "outputs": [
    {
     "ename": "KeyError",
     "evalue": "'coord'",
     "output_type": "error",
     "traceback": [
      "\u001b[0;31m---------------------------------------------------------------------------\u001b[0m",
      "\u001b[0;31mKeyError\u001b[0m                                  Traceback (most recent call last)",
      "\u001b[0;32m<ipython-input-75-78ecb7389f4a>\u001b[0m in \u001b[0;36m<module>\u001b[0;34m()\u001b[0m\n\u001b[1;32m     43\u001b[0m     \u001b[0;31m#print(city)\u001b[0m\u001b[0;34m\u001b[0m\u001b[0;34m\u001b[0m\u001b[0m\n\u001b[1;32m     44\u001b[0m     \u001b[0mresponse\u001b[0m \u001b[0;34m=\u001b[0m \u001b[0mrequests\u001b[0m\u001b[0;34m.\u001b[0m\u001b[0mget\u001b[0m\u001b[0;34m(\u001b[0m\u001b[0mQuery_url\u001b[0m \u001b[0;34m+\u001b[0m \u001b[0mcity\u001b[0m\u001b[0;34m)\u001b[0m\u001b[0;34m.\u001b[0m\u001b[0mjson\u001b[0m\u001b[0;34m(\u001b[0m\u001b[0;34m)\u001b[0m\u001b[0;34m\u001b[0m\u001b[0m\n\u001b[0;32m---> 45\u001b[0;31m     \u001b[0mLatitude\u001b[0m\u001b[0;34m.\u001b[0m\u001b[0mappend\u001b[0m\u001b[0;34m(\u001b[0m\u001b[0mresponse\u001b[0m\u001b[0;34m[\u001b[0m\u001b[0;34m'coord'\u001b[0m\u001b[0;34m]\u001b[0m\u001b[0;34m[\u001b[0m\u001b[0;34m'lat'\u001b[0m\u001b[0;34m]\u001b[0m\u001b[0;34m)\u001b[0m\u001b[0;34m\u001b[0m\u001b[0m\n\u001b[0m\u001b[1;32m     46\u001b[0m     \u001b[0mTemperature\u001b[0m\u001b[0;34m.\u001b[0m\u001b[0mappend\u001b[0m\u001b[0;34m(\u001b[0m\u001b[0mresponse\u001b[0m\u001b[0;34m[\u001b[0m\u001b[0;34m'main'\u001b[0m\u001b[0;34m]\u001b[0m\u001b[0;34m[\u001b[0m\u001b[0;34m'temp'\u001b[0m\u001b[0;34m]\u001b[0m\u001b[0;34m)\u001b[0m\u001b[0;34m\u001b[0m\u001b[0m\n\u001b[1;32m     47\u001b[0m     \u001b[0mHumidity\u001b[0m\u001b[0;34m.\u001b[0m\u001b[0mappend\u001b[0m\u001b[0;34m(\u001b[0m\u001b[0mresponse\u001b[0m\u001b[0;34m[\u001b[0m\u001b[0;34m'main'\u001b[0m\u001b[0;34m]\u001b[0m\u001b[0;34m[\u001b[0m\u001b[0;34m'humidity'\u001b[0m\u001b[0;34m]\u001b[0m\u001b[0;34m)\u001b[0m\u001b[0;34m\u001b[0m\u001b[0m\n",
      "\u001b[0;31mKeyError\u001b[0m: 'coord'"
     ]
    }
   ],
   "source": [
    "# OpenWeatherMap API Key\n",
    "api_key = \"c45ba674482155c25990a877cffc2904\"\n",
    "\n",
    "# Starting URL for Weather Map API Call\n",
    "base_url = \"http://api.openweathermap.org/data/2.5/weather?units=Imperial&APPID=\" \n",
    "\n",
    "Query_url = base_url + api_key + \"&q=\"\n",
    "#print(base_url)\n",
    "#print(Query_url)\n",
    "\n",
    "# List for holding lat_lngs and cities\n",
    "lat_lngs = []\n",
    "cities = []\n",
    "\n",
    "# Create a set of random lat and lng combinations\n",
    "lats = np.random.uniform(low=-90.000, high=90.000, size=1500)\n",
    "lngs = np.random.uniform(low=-180.000, high=180.000, size=1500)\n",
    "lat_lngs = zip(lats, lngs)\n",
    "\n",
    "# Identify nearest city for each lat, lng combination\n",
    "for lat_lng in lat_lngs:\n",
    "    city = citipy.nearest_city(lat_lng[0], lat_lng[1]).city_name\n",
    "    \n",
    "    # If the city is unique, then add it to a our cities list\n",
    "    if city not in cities:\n",
    "        cities.append(city)\n",
    "\n",
    "# Print the city count to confirm sufficient count\n",
    "# len(cities)\n",
    "#print(cities)\n",
    "\n",
    "Latitude = []\n",
    "Humidity = []\n",
    "Temperature = []\n",
    "Cloudiness = []\n",
    "Wind_Speed = []\n",
    "\n",
    "London = ['London']\n",
    "\n",
    "for city in cities:\n",
    "    \n",
    "\n",
    "    #print(city)    \n",
    "    response = requests.get(Query_url + city).json()\n",
    "    Latitude.append(response['coord']['lat'])\n",
    "    Temperature.append(response['main']['temp'])\n",
    "    Humidity.append(response['main']['humidity'])\n",
    "    Cloudiness.append(response['clouds']['all'])\n",
    "    Wind_Speed.append(response['wind']['speed'])\n",
    "\n",
    "# for city in cities:\n",
    "#     response = requests.get(Query_url + city).json()\n",
    "#     Latitude.append(response['coord']['lat'])\n",
    "#     Temperature.append(response['main']['temp'])\n",
    "#     Humidity.append(response['main']['humidity'])\n",
    "#     Cloudiness.append(response['clouds']['all'])\n",
    "#     Wind_Speed.append(response['wind']['speed'])\n",
    "    \n",
    "#print(response)"
   ]
  },
  {
   "cell_type": "code",
   "execution_count": null,
   "metadata": {},
   "outputs": [],
   "source": [
    "# # List for holding lat_lngs and cities\n",
    "# lat_lngs = []\n",
    "# cities = []\n",
    "\n",
    "# # Create a set of random lat and lng combinations\n",
    "# lats = np.random.uniform(low=-90.000, high=90.000, size=1500)\n",
    "# lngs = np.random.uniform(low=-180.000, high=180.000, size=1500)\n",
    "# lat_lngs = zip(lats, lngs)\n",
    "\n",
    "# # Identify nearest city for each lat, lng combination\n",
    "# for lat_lng in lat_lngs:\n",
    "#     city = citipy.nearest_city(lat_lng[0], lat_lng[1]).city_name\n",
    "    \n",
    "#     # If the city is unique, then add it to a our cities list\n",
    "#     if city not in cities:\n",
    "#         cities.append(city)\n",
    "\n",
    "# # Print the city count to confirm sufficient count\n",
    "# # len(cities)\n",
    "# #print(cities)\n",
    "\n",
    "# Latitude = []\n",
    "# Humidity = []\n",
    "# Temperature = []\n",
    "# Cloudiness = []\n",
    "# Wind_Speed = []\n",
    "\n",
    "\n",
    "\n",
    "\n",
    "# for city in cities:\n",
    "#     response = requests.get(Query_url + city).json()\n",
    "# #     Latitude.append(response['coord']['lat'])\n",
    "# #     Temperature.append(response['main']['temp'])\n",
    "# #     Humidity.append(response['main']['humidity'])\n",
    "# #     Cloudiness.append(response['clouds']['all'])\n",
    "# #     Wind_Speed.append(response['wind']['speed'])\n",
    "    \n",
    "# print(Query_url)"
   ]
  },
  {
   "cell_type": "code",
   "execution_count": null,
   "metadata": {},
   "outputs": [],
   "source": [
    "Weather_Dict = {\"City\": cities, \"Latitude\": Latitude, \n",
    "                \"Temperature\": Temperature,\n",
    "                \"Humidity\": Humidity,\n",
    "                \"Cloudiness\": Cloudiness,\n",
    "                \"Wind_Speed\": Wind_Speed}\n",
    "\n",
    "Weather_Data = pd.DataFrame(Weather_Dict)\n",
    "Weather_Data.head()"
   ]
  },
  {
   "cell_type": "code",
   "execution_count": null,
   "metadata": {},
   "outputs": [],
   "source": []
  }
 ],
 "metadata": {
  "anaconda-cloud": {},
  "kernelspec": {
   "display_name": "Python 3",
   "language": "python",
   "name": "python3"
  },
  "language_info": {
   "codemirror_mode": {
    "name": "ipython",
    "version": 3
   },
   "file_extension": ".py",
   "mimetype": "text/x-python",
   "name": "python",
   "nbconvert_exporter": "python",
   "pygments_lexer": "ipython3",
   "version": "3.6.4"
  }
 },
 "nbformat": 4,
 "nbformat_minor": 1
}
